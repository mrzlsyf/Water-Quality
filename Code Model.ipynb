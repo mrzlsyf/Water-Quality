{
 "cells": [
  {
   "cell_type": "markdown",
   "metadata": {
    "id": "qoOSn05YJ2FF"
   },
   "source": [
    "# **Import Library**"
   ]
  },
  {
   "cell_type": "code",
   "execution_count": null,
   "metadata": {
    "id": "WjAo5IVAJn47"
   },
   "outputs": [],
   "source": [
    "import joblib, numpy as np, pandas as pd, seaborn as sns\n",
    "import matplotlib.pyplot as plt\n",
    "%matplotlib inline\n",
    "\n",
    "from sklearn.utils import shuffle, resample\n",
    "from sklearn.preprocessing import StandardScaler \n",
    "from sklearn.model_selection import GridSearchCV \n",
    "from sklearn.ensemble import RandomForestClassifier\n",
    "from sklearn.model_selection import train_test_split\n",
    "from sklearn.metrics import classification_report, confusion_matrix, roc_curve, auc"
   ]
  },
  {
   "cell_type": "markdown",
   "metadata": {
    "id": "LNkH9Da-MfWA"
   },
   "source": [
    "# **Reviewing Data**"
   ]
  },
  {
   "cell_type": "code",
   "execution_count": null,
   "metadata": {
    "colab": {
     "base_uri": "https://localhost:8080/",
     "height": 424
    },
    "id": "Jd-DGot3Mbh-",
    "outputId": "3f373bb5-a811-43da-9834-5aa4099c1807"
   },
   "outputs": [
    {
     "data": {
      "text/html": [
       "\n",
       "  <div id=\"df-79cb3f24-5673-4ff7-b784-49cd4fbb057b\" class=\"colab-df-container\">\n",
       "    <div>\n",
       "<style scoped>\n",
       "    .dataframe tbody tr th:only-of-type {\n",
       "        vertical-align: middle;\n",
       "    }\n",
       "\n",
       "    .dataframe tbody tr th {\n",
       "        vertical-align: top;\n",
       "    }\n",
       "\n",
       "    .dataframe thead th {\n",
       "        text-align: right;\n",
       "    }\n",
       "</style>\n",
       "<table border=\"1\" class=\"dataframe\">\n",
       "  <thead>\n",
       "    <tr style=\"text-align: right;\">\n",
       "      <th></th>\n",
       "      <th>ph</th>\n",
       "      <th>Hardness</th>\n",
       "      <th>Solids</th>\n",
       "      <th>Chloramines</th>\n",
       "      <th>Sulfate</th>\n",
       "      <th>Conductivity</th>\n",
       "      <th>Organic_carbon</th>\n",
       "      <th>Trihalomethanes</th>\n",
       "      <th>Turbidity</th>\n",
       "      <th>Potability</th>\n",
       "    </tr>\n",
       "  </thead>\n",
       "  <tbody>\n",
       "    <tr>\n",
       "      <th>0</th>\n",
       "      <td>NaN</td>\n",
       "      <td>204.890455</td>\n",
       "      <td>20791.318981</td>\n",
       "      <td>7.300212</td>\n",
       "      <td>368.516441</td>\n",
       "      <td>564.308654</td>\n",
       "      <td>10.379783</td>\n",
       "      <td>86.990970</td>\n",
       "      <td>2.963135</td>\n",
       "      <td>0</td>\n",
       "    </tr>\n",
       "    <tr>\n",
       "      <th>1</th>\n",
       "      <td>3.716080</td>\n",
       "      <td>129.422921</td>\n",
       "      <td>18630.057858</td>\n",
       "      <td>6.635246</td>\n",
       "      <td>NaN</td>\n",
       "      <td>592.885359</td>\n",
       "      <td>15.180013</td>\n",
       "      <td>56.329076</td>\n",
       "      <td>4.500656</td>\n",
       "      <td>0</td>\n",
       "    </tr>\n",
       "    <tr>\n",
       "      <th>2</th>\n",
       "      <td>8.099124</td>\n",
       "      <td>224.236259</td>\n",
       "      <td>19909.541732</td>\n",
       "      <td>9.275884</td>\n",
       "      <td>NaN</td>\n",
       "      <td>418.606213</td>\n",
       "      <td>16.868637</td>\n",
       "      <td>66.420093</td>\n",
       "      <td>3.055934</td>\n",
       "      <td>0</td>\n",
       "    </tr>\n",
       "    <tr>\n",
       "      <th>3</th>\n",
       "      <td>8.316766</td>\n",
       "      <td>214.373394</td>\n",
       "      <td>22018.417441</td>\n",
       "      <td>8.059332</td>\n",
       "      <td>356.886136</td>\n",
       "      <td>363.266516</td>\n",
       "      <td>18.436524</td>\n",
       "      <td>100.341674</td>\n",
       "      <td>4.628771</td>\n",
       "      <td>0</td>\n",
       "    </tr>\n",
       "    <tr>\n",
       "      <th>4</th>\n",
       "      <td>9.092223</td>\n",
       "      <td>181.101509</td>\n",
       "      <td>17978.986339</td>\n",
       "      <td>6.546600</td>\n",
       "      <td>310.135738</td>\n",
       "      <td>398.410813</td>\n",
       "      <td>11.558279</td>\n",
       "      <td>31.997993</td>\n",
       "      <td>4.075075</td>\n",
       "      <td>0</td>\n",
       "    </tr>\n",
       "    <tr>\n",
       "      <th>...</th>\n",
       "      <td>...</td>\n",
       "      <td>...</td>\n",
       "      <td>...</td>\n",
       "      <td>...</td>\n",
       "      <td>...</td>\n",
       "      <td>...</td>\n",
       "      <td>...</td>\n",
       "      <td>...</td>\n",
       "      <td>...</td>\n",
       "      <td>...</td>\n",
       "    </tr>\n",
       "    <tr>\n",
       "      <th>3271</th>\n",
       "      <td>4.668102</td>\n",
       "      <td>193.681735</td>\n",
       "      <td>47580.991603</td>\n",
       "      <td>7.166639</td>\n",
       "      <td>359.948574</td>\n",
       "      <td>526.424171</td>\n",
       "      <td>13.894419</td>\n",
       "      <td>66.687695</td>\n",
       "      <td>4.435821</td>\n",
       "      <td>1</td>\n",
       "    </tr>\n",
       "    <tr>\n",
       "      <th>3272</th>\n",
       "      <td>7.808856</td>\n",
       "      <td>193.553212</td>\n",
       "      <td>17329.802160</td>\n",
       "      <td>8.061362</td>\n",
       "      <td>NaN</td>\n",
       "      <td>392.449580</td>\n",
       "      <td>19.903225</td>\n",
       "      <td>NaN</td>\n",
       "      <td>2.798243</td>\n",
       "      <td>1</td>\n",
       "    </tr>\n",
       "    <tr>\n",
       "      <th>3273</th>\n",
       "      <td>9.419510</td>\n",
       "      <td>175.762646</td>\n",
       "      <td>33155.578218</td>\n",
       "      <td>7.350233</td>\n",
       "      <td>NaN</td>\n",
       "      <td>432.044783</td>\n",
       "      <td>11.039070</td>\n",
       "      <td>69.845400</td>\n",
       "      <td>3.298875</td>\n",
       "      <td>1</td>\n",
       "    </tr>\n",
       "    <tr>\n",
       "      <th>3274</th>\n",
       "      <td>5.126763</td>\n",
       "      <td>230.603758</td>\n",
       "      <td>11983.869376</td>\n",
       "      <td>6.303357</td>\n",
       "      <td>NaN</td>\n",
       "      <td>402.883113</td>\n",
       "      <td>11.168946</td>\n",
       "      <td>77.488213</td>\n",
       "      <td>4.708658</td>\n",
       "      <td>1</td>\n",
       "    </tr>\n",
       "    <tr>\n",
       "      <th>3275</th>\n",
       "      <td>7.874671</td>\n",
       "      <td>195.102299</td>\n",
       "      <td>17404.177061</td>\n",
       "      <td>7.509306</td>\n",
       "      <td>NaN</td>\n",
       "      <td>327.459760</td>\n",
       "      <td>16.140368</td>\n",
       "      <td>78.698446</td>\n",
       "      <td>2.309149</td>\n",
       "      <td>1</td>\n",
       "    </tr>\n",
       "  </tbody>\n",
       "</table>\n",
       "<p>3276 rows × 10 columns</p>\n",
       "</div>\n",
       "    <div class=\"colab-df-buttons\">\n",
       "\n",
       "  <div class=\"colab-df-container\">\n",
       "    <button class=\"colab-df-convert\" onclick=\"convertToInteractive('df-79cb3f24-5673-4ff7-b784-49cd4fbb057b')\"\n",
       "            title=\"Convert this dataframe to an interactive table.\"\n",
       "            style=\"display:none;\">\n",
       "\n",
       "  <svg xmlns=\"http://www.w3.org/2000/svg\" height=\"24px\" viewBox=\"0 -960 960 960\">\n",
       "    <path d=\"M120-120v-720h720v720H120Zm60-500h600v-160H180v160Zm220 220h160v-160H400v160Zm0 220h160v-160H400v160ZM180-400h160v-160H180v160Zm440 0h160v-160H620v160ZM180-180h160v-160H180v160Zm440 0h160v-160H620v160Z\"/>\n",
       "  </svg>\n",
       "    </button>\n",
       "\n",
       "  <style>\n",
       "    .colab-df-container {\n",
       "      display:flex;\n",
       "      gap: 12px;\n",
       "    }\n",
       "\n",
       "    .colab-df-convert {\n",
       "      background-color: #E8F0FE;\n",
       "      border: none;\n",
       "      border-radius: 50%;\n",
       "      cursor: pointer;\n",
       "      display: none;\n",
       "      fill: #1967D2;\n",
       "      height: 32px;\n",
       "      padding: 0 0 0 0;\n",
       "      width: 32px;\n",
       "    }\n",
       "\n",
       "    .colab-df-convert:hover {\n",
       "      background-color: #E2EBFA;\n",
       "      box-shadow: 0px 1px 2px rgba(60, 64, 67, 0.3), 0px 1px 3px 1px rgba(60, 64, 67, 0.15);\n",
       "      fill: #174EA6;\n",
       "    }\n",
       "\n",
       "    .colab-df-buttons div {\n",
       "      margin-bottom: 4px;\n",
       "    }\n",
       "\n",
       "    [theme=dark] .colab-df-convert {\n",
       "      background-color: #3B4455;\n",
       "      fill: #D2E3FC;\n",
       "    }\n",
       "\n",
       "    [theme=dark] .colab-df-convert:hover {\n",
       "      background-color: #434B5C;\n",
       "      box-shadow: 0px 1px 3px 1px rgba(0, 0, 0, 0.15);\n",
       "      filter: drop-shadow(0px 1px 2px rgba(0, 0, 0, 0.3));\n",
       "      fill: #FFFFFF;\n",
       "    }\n",
       "  </style>\n",
       "\n",
       "    <script>\n",
       "      const buttonEl =\n",
       "        document.querySelector('#df-79cb3f24-5673-4ff7-b784-49cd4fbb057b button.colab-df-convert');\n",
       "      buttonEl.style.display =\n",
       "        google.colab.kernel.accessAllowed ? 'block' : 'none';\n",
       "\n",
       "      async function convertToInteractive(key) {\n",
       "        const element = document.querySelector('#df-79cb3f24-5673-4ff7-b784-49cd4fbb057b');\n",
       "        const dataTable =\n",
       "          await google.colab.kernel.invokeFunction('convertToInteractive',\n",
       "                                                    [key], {});\n",
       "        if (!dataTable) return;\n",
       "\n",
       "        const docLinkHtml = 'Like what you see? Visit the ' +\n",
       "          '<a target=\"_blank\" href=https://colab.research.google.com/notebooks/data_table.ipynb>data table notebook</a>'\n",
       "          + ' to learn more about interactive tables.';\n",
       "        element.innerHTML = '';\n",
       "        dataTable['output_type'] = 'display_data';\n",
       "        await google.colab.output.renderOutput(dataTable, element);\n",
       "        const docLink = document.createElement('div');\n",
       "        docLink.innerHTML = docLinkHtml;\n",
       "        element.appendChild(docLink);\n",
       "      }\n",
       "    </script>\n",
       "  </div>\n",
       "\n",
       "\n",
       "<div id=\"df-8ada8d5a-74ec-4f70-b737-b8578297a022\">\n",
       "  <button class=\"colab-df-quickchart\" onclick=\"quickchart('df-8ada8d5a-74ec-4f70-b737-b8578297a022')\"\n",
       "            title=\"Suggest charts\"\n",
       "            style=\"display:none;\">\n",
       "\n",
       "<svg xmlns=\"http://www.w3.org/2000/svg\" height=\"24px\"viewBox=\"0 0 24 24\"\n",
       "     width=\"24px\">\n",
       "    <g>\n",
       "        <path d=\"M19 3H5c-1.1 0-2 .9-2 2v14c0 1.1.9 2 2 2h14c1.1 0 2-.9 2-2V5c0-1.1-.9-2-2-2zM9 17H7v-7h2v7zm4 0h-2V7h2v10zm4 0h-2v-4h2v4z\"/>\n",
       "    </g>\n",
       "</svg>\n",
       "  </button>\n",
       "\n",
       "<style>\n",
       "  .colab-df-quickchart {\n",
       "      --bg-color: #E8F0FE;\n",
       "      --fill-color: #1967D2;\n",
       "      --hover-bg-color: #E2EBFA;\n",
       "      --hover-fill-color: #174EA6;\n",
       "      --disabled-fill-color: #AAA;\n",
       "      --disabled-bg-color: #DDD;\n",
       "  }\n",
       "\n",
       "  [theme=dark] .colab-df-quickchart {\n",
       "      --bg-color: #3B4455;\n",
       "      --fill-color: #D2E3FC;\n",
       "      --hover-bg-color: #434B5C;\n",
       "      --hover-fill-color: #FFFFFF;\n",
       "      --disabled-bg-color: #3B4455;\n",
       "      --disabled-fill-color: #666;\n",
       "  }\n",
       "\n",
       "  .colab-df-quickchart {\n",
       "    background-color: var(--bg-color);\n",
       "    border: none;\n",
       "    border-radius: 50%;\n",
       "    cursor: pointer;\n",
       "    display: none;\n",
       "    fill: var(--fill-color);\n",
       "    height: 32px;\n",
       "    padding: 0;\n",
       "    width: 32px;\n",
       "  }\n",
       "\n",
       "  .colab-df-quickchart:hover {\n",
       "    background-color: var(--hover-bg-color);\n",
       "    box-shadow: 0 1px 2px rgba(60, 64, 67, 0.3), 0 1px 3px 1px rgba(60, 64, 67, 0.15);\n",
       "    fill: var(--button-hover-fill-color);\n",
       "  }\n",
       "\n",
       "  .colab-df-quickchart-complete:disabled,\n",
       "  .colab-df-quickchart-complete:disabled:hover {\n",
       "    background-color: var(--disabled-bg-color);\n",
       "    fill: var(--disabled-fill-color);\n",
       "    box-shadow: none;\n",
       "  }\n",
       "\n",
       "  .colab-df-spinner {\n",
       "    border: 2px solid var(--fill-color);\n",
       "    border-color: transparent;\n",
       "    border-bottom-color: var(--fill-color);\n",
       "    animation:\n",
       "      spin 1s steps(1) infinite;\n",
       "  }\n",
       "\n",
       "  @keyframes spin {\n",
       "    0% {\n",
       "      border-color: transparent;\n",
       "      border-bottom-color: var(--fill-color);\n",
       "      border-left-color: var(--fill-color);\n",
       "    }\n",
       "    20% {\n",
       "      border-color: transparent;\n",
       "      border-left-color: var(--fill-color);\n",
       "      border-top-color: var(--fill-color);\n",
       "    }\n",
       "    30% {\n",
       "      border-color: transparent;\n",
       "      border-left-color: var(--fill-color);\n",
       "      border-top-color: var(--fill-color);\n",
       "      border-right-color: var(--fill-color);\n",
       "    }\n",
       "    40% {\n",
       "      border-color: transparent;\n",
       "      border-right-color: var(--fill-color);\n",
       "      border-top-color: var(--fill-color);\n",
       "    }\n",
       "    60% {\n",
       "      border-color: transparent;\n",
       "      border-right-color: var(--fill-color);\n",
       "    }\n",
       "    80% {\n",
       "      border-color: transparent;\n",
       "      border-right-color: var(--fill-color);\n",
       "      border-bottom-color: var(--fill-color);\n",
       "    }\n",
       "    90% {\n",
       "      border-color: transparent;\n",
       "      border-bottom-color: var(--fill-color);\n",
       "    }\n",
       "  }\n",
       "</style>\n",
       "\n",
       "  <script>\n",
       "    async function quickchart(key) {\n",
       "      const quickchartButtonEl =\n",
       "        document.querySelector('#' + key + ' button');\n",
       "      quickchartButtonEl.disabled = true;  // To prevent multiple clicks.\n",
       "      quickchartButtonEl.classList.add('colab-df-spinner');\n",
       "      try {\n",
       "        const charts = await google.colab.kernel.invokeFunction(\n",
       "            'suggestCharts', [key], {});\n",
       "      } catch (error) {\n",
       "        console.error('Error during call to suggestCharts:', error);\n",
       "      }\n",
       "      quickchartButtonEl.classList.remove('colab-df-spinner');\n",
       "      quickchartButtonEl.classList.add('colab-df-quickchart-complete');\n",
       "    }\n",
       "    (() => {\n",
       "      let quickchartButtonEl =\n",
       "        document.querySelector('#df-8ada8d5a-74ec-4f70-b737-b8578297a022 button');\n",
       "      quickchartButtonEl.style.display =\n",
       "        google.colab.kernel.accessAllowed ? 'block' : 'none';\n",
       "    })();\n",
       "  </script>\n",
       "</div>\n",
       "    </div>\n",
       "  </div>\n"
      ],
      "text/plain": [
       "            ph    Hardness        Solids  Chloramines     Sulfate  \\\n",
       "0          NaN  204.890455  20791.318981     7.300212  368.516441   \n",
       "1     3.716080  129.422921  18630.057858     6.635246         NaN   \n",
       "2     8.099124  224.236259  19909.541732     9.275884         NaN   \n",
       "3     8.316766  214.373394  22018.417441     8.059332  356.886136   \n",
       "4     9.092223  181.101509  17978.986339     6.546600  310.135738   \n",
       "...        ...         ...           ...          ...         ...   \n",
       "3271  4.668102  193.681735  47580.991603     7.166639  359.948574   \n",
       "3272  7.808856  193.553212  17329.802160     8.061362         NaN   \n",
       "3273  9.419510  175.762646  33155.578218     7.350233         NaN   \n",
       "3274  5.126763  230.603758  11983.869376     6.303357         NaN   \n",
       "3275  7.874671  195.102299  17404.177061     7.509306         NaN   \n",
       "\n",
       "      Conductivity  Organic_carbon  Trihalomethanes  Turbidity  Potability  \n",
       "0       564.308654       10.379783        86.990970   2.963135           0  \n",
       "1       592.885359       15.180013        56.329076   4.500656           0  \n",
       "2       418.606213       16.868637        66.420093   3.055934           0  \n",
       "3       363.266516       18.436524       100.341674   4.628771           0  \n",
       "4       398.410813       11.558279        31.997993   4.075075           0  \n",
       "...            ...             ...              ...        ...         ...  \n",
       "3271    526.424171       13.894419        66.687695   4.435821           1  \n",
       "3272    392.449580       19.903225              NaN   2.798243           1  \n",
       "3273    432.044783       11.039070        69.845400   3.298875           1  \n",
       "3274    402.883113       11.168946        77.488213   4.708658           1  \n",
       "3275    327.459760       16.140368        78.698446   2.309149           1  \n",
       "\n",
       "[3276 rows x 10 columns]"
      ]
     },
     "execution_count": 3,
     "metadata": {},
     "output_type": "execute_result"
    }
   ],
   "source": [
    "data = pd.read_csv(\"water_potability.csv\")\n",
    "\n",
    "data"
   ]
  },
  {
   "cell_type": "markdown",
   "metadata": {
    "id": "C1xX5kfdQSRK"
   },
   "source": [
    "*There are 9 Independent features and 1 dependent feature. Details for each feature are provided above.*\n",
    "\n",
    "*The goal is to use the Potability feature as the target feature for classification problems.*"
   ]
  },
  {
   "cell_type": "code",
   "execution_count": null,
   "metadata": {
    "colab": {
     "base_uri": "https://localhost:8080/"
    },
    "id": "Roeiiq45N1Nz",
    "outputId": "b0f0cedb-dc6f-448c-a8c9-f8b4f1141a1d"
   },
   "outputs": [
    {
     "name": "stdout",
     "output_type": "stream",
     "text": [
      "<class 'pandas.core.frame.DataFrame'>\n",
      "RangeIndex: 3276 entries, 0 to 3275\n",
      "Data columns (total 10 columns):\n",
      " #   Column           Non-Null Count  Dtype  \n",
      "---  ------           --------------  -----  \n",
      " 0   ph               2785 non-null   float64\n",
      " 1   Hardness         3276 non-null   float64\n",
      " 2   Solids           3276 non-null   float64\n",
      " 3   Chloramines      3276 non-null   float64\n",
      " 4   Sulfate          2495 non-null   float64\n",
      " 5   Conductivity     3276 non-null   float64\n",
      " 6   Organic_carbon   3276 non-null   float64\n",
      " 7   Trihalomethanes  3114 non-null   float64\n",
      " 8   Turbidity        3276 non-null   float64\n",
      " 9   Potability       3276 non-null   int64  \n",
      "dtypes: float64(9), int64(1)\n",
      "memory usage: 256.1 KB\n"
     ]
    }
   ],
   "source": [
    "data.info()"
   ]
  },
  {
   "cell_type": "code",
   "execution_count": null,
   "metadata": {
    "colab": {
     "base_uri": "https://localhost:8080/",
     "height": 723
    },
    "id": "L7rxdc54N9Ac",
    "outputId": "07546e51-5886-4820-f20b-a2fa1ea8bb0b"
   },
   "outputs": [
    {
     "data": {
      "image/png": "[encoded data removed]",
      "text/plain": [
       "<Figure size 1000x700 with 2 Axes>"
      ]
     },
     "metadata": {},
     "output_type": "display_data"
    }
   ],
   "source": [
    "correlation = data.corr()\n",
    "\n",
    "fig = plt.figure(figsize=(10,7))\n",
    "sns.heatmap(correlation, annot=True, square=True, linewidths=.5, cmap=plt.cm.Greens_r)\n",
    "plt.title('Hubungan 9 Variabel dengan Potability')\n",
    "\n",
    "plt.show()"
   ]
  },
  {
   "cell_type": "code",
   "execution_count": null,
   "metadata": {
    "colab": {
     "base_uri": "https://localhost:8080/",
     "height": 300
    },
    "id": "05qWNQH1OMSP",
    "outputId": "71c03cfb-06ae-46b4-9bc9-994dcc7c3715"
   },
   "outputs": [
    {
     "data": {
      "text/html": [
       "<style type=\"text/css\">\n",
       "#T_91a31_row0_col0, #T_91a31_row0_col1, #T_91a31_row0_col3, #T_91a31_row0_col4, #T_91a31_row0_col5, #T_91a31_row0_col6, #T_91a31_row0_col7, #T_91a31_row0_col8, #T_91a31_row0_col9, #T_91a31_row7_col2 {\n",
       "  background-color: #00441b;\n",
       "  color: #f1f1f1;\n",
       "}\n",
       "#T_91a31_row0_col2, #T_91a31_row1_col1, #T_91a31_row5_col1 {\n",
       "  background-color: #f0f9ed;\n",
       "  color: #000000;\n",
       "}\n",
       "#T_91a31_row1_col0, #T_91a31_row1_col3, #T_91a31_row1_col6, #T_91a31_row1_col8, #T_91a31_row1_col9, #T_91a31_row2_col0, #T_91a31_row2_col1, #T_91a31_row2_col3, #T_91a31_row2_col4, #T_91a31_row2_col5, #T_91a31_row2_col6, #T_91a31_row2_col8, #T_91a31_row2_col9, #T_91a31_row3_col0, #T_91a31_row3_col2, #T_91a31_row3_col3, #T_91a31_row3_col6, #T_91a31_row3_col7, #T_91a31_row3_col8, #T_91a31_row3_col9, #T_91a31_row4_col0, #T_91a31_row4_col3, #T_91a31_row4_col6, #T_91a31_row4_col8, #T_91a31_row4_col9, #T_91a31_row5_col0, #T_91a31_row5_col3, #T_91a31_row5_col6, #T_91a31_row5_col8, #T_91a31_row5_col9, #T_91a31_row6_col0, #T_91a31_row6_col3, #T_91a31_row6_col8, #T_91a31_row6_col9, #T_91a31_row7_col3, #T_91a31_row7_col8, #T_91a31_row7_col9 {\n",
       "  background-color: #f7fcf5;\n",
       "  color: #000000;\n",
       "}\n",
       "#T_91a31_row1_col2 {\n",
       "  background-color: #a7dba0;\n",
       "  color: #000000;\n",
       "}\n",
       "#T_91a31_row1_col4, #T_91a31_row5_col4 {\n",
       "  background-color: #e6f5e1;\n",
       "  color: #000000;\n",
       "}\n",
       "#T_91a31_row1_col5, #T_91a31_row4_col4, #T_91a31_row5_col5 {\n",
       "  background-color: #e8f6e3;\n",
       "  color: #000000;\n",
       "}\n",
       "#T_91a31_row1_col7, #T_91a31_row5_col7 {\n",
       "  background-color: #f4fbf2;\n",
       "  color: #000000;\n",
       "}\n",
       "#T_91a31_row2_col2 {\n",
       "  background-color: #e2f4dd;\n",
       "  color: #000000;\n",
       "}\n",
       "#T_91a31_row2_col7, #T_91a31_row3_col1, #T_91a31_row6_col6, #T_91a31_row7_col0, #T_91a31_row7_col6 {\n",
       "  background-color: #f6fcf4;\n",
       "  color: #000000;\n",
       "}\n",
       "#T_91a31_row3_col4 {\n",
       "  background-color: #f2faef;\n",
       "  color: #000000;\n",
       "}\n",
       "#T_91a31_row3_col5 {\n",
       "  background-color: #f2faf0;\n",
       "  color: #000000;\n",
       "}\n",
       "#T_91a31_row4_col1, #T_91a31_row7_col7 {\n",
       "  background-color: #f1faee;\n",
       "  color: #000000;\n",
       "}\n",
       "#T_91a31_row4_col2 {\n",
       "  background-color: #c7e9c0;\n",
       "  color: #000000;\n",
       "}\n",
       "#T_91a31_row4_col5, #T_91a31_row7_col1 {\n",
       "  background-color: #ebf7e7;\n",
       "  color: #000000;\n",
       "}\n",
       "#T_91a31_row4_col7 {\n",
       "  background-color: #f5fbf2;\n",
       "  color: #000000;\n",
       "}\n",
       "#T_91a31_row5_col2 {\n",
       "  background-color: #acdea6;\n",
       "  color: #000000;\n",
       "}\n",
       "#T_91a31_row6_col1 {\n",
       "  background-color: #eff9ec;\n",
       "  color: #000000;\n",
       "}\n",
       "#T_91a31_row6_col2 {\n",
       "  background-color: #88ce87;\n",
       "  color: #000000;\n",
       "}\n",
       "#T_91a31_row6_col4 {\n",
       "  background-color: #e4f5df;\n",
       "  color: #000000;\n",
       "}\n",
       "#T_91a31_row6_col5 {\n",
       "  background-color: #e5f5e0;\n",
       "  color: #000000;\n",
       "}\n",
       "#T_91a31_row6_col7 {\n",
       "  background-color: #f4fbf1;\n",
       "  color: #000000;\n",
       "}\n",
       "#T_91a31_row7_col4 {\n",
       "  background-color: #d9f0d3;\n",
       "  color: #000000;\n",
       "}\n",
       "#T_91a31_row7_col5 {\n",
       "  background-color: #d1edcb;\n",
       "  color: #000000;\n",
       "}\n",
       "</style>\n",
       "<table id=\"T_91a31\" class=\"dataframe\">\n",
       "  <thead>\n",
       "    <tr>\n",
       "      <th class=\"blank level0\" >&nbsp;</th>\n",
       "      <th id=\"T_91a31_level0_col0\" class=\"col_heading level0 col0\" >ph</th>\n",
       "      <th id=\"T_91a31_level0_col1\" class=\"col_heading level0 col1\" >Hardness</th>\n",
       "      <th id=\"T_91a31_level0_col2\" class=\"col_heading level0 col2\" >Solids</th>\n",
       "      <th id=\"T_91a31_level0_col3\" class=\"col_heading level0 col3\" >Chloramines</th>\n",
       "      <th id=\"T_91a31_level0_col4\" class=\"col_heading level0 col4\" >Sulfate</th>\n",
       "      <th id=\"T_91a31_level0_col5\" class=\"col_heading level0 col5\" >Conductivity</th>\n",
       "      <th id=\"T_91a31_level0_col6\" class=\"col_heading level0 col6\" >Organic_carbon</th>\n",
       "      <th id=\"T_91a31_level0_col7\" class=\"col_heading level0 col7\" >Trihalomethanes</th>\n",
       "      <th id=\"T_91a31_level0_col8\" class=\"col_heading level0 col8\" >Turbidity</th>\n",
       "      <th id=\"T_91a31_level0_col9\" class=\"col_heading level0 col9\" >Potability</th>\n",
       "    </tr>\n",
       "  </thead>\n",
       "  <tbody>\n",
       "    <tr>\n",
       "      <th id=\"T_91a31_level0_row0\" class=\"row_heading level0 row0\" >count</th>\n",
       "      <td id=\"T_91a31_row0_col0\" class=\"data row0 col0\" >2785.000000</td>\n",
       "      <td id=\"T_91a31_row0_col1\" class=\"data row0 col1\" >3276.000000</td>\n",
       "      <td id=\"T_91a31_row0_col2\" class=\"data row0 col2\" >3276.000000</td>\n",
       "      <td id=\"T_91a31_row0_col3\" class=\"data row0 col3\" >3276.000000</td>\n",
       "      <td id=\"T_91a31_row0_col4\" class=\"data row0 col4\" >2495.000000</td>\n",
       "      <td id=\"T_91a31_row0_col5\" class=\"data row0 col5\" >3276.000000</td>\n",
       "      <td id=\"T_91a31_row0_col6\" class=\"data row0 col6\" >3276.000000</td>\n",
       "      <td id=\"T_91a31_row0_col7\" class=\"data row0 col7\" >3114.000000</td>\n",
       "      <td id=\"T_91a31_row0_col8\" class=\"data row0 col8\" >3276.000000</td>\n",
       "      <td id=\"T_91a31_row0_col9\" class=\"data row0 col9\" >3276.000000</td>\n",
       "    </tr>\n",
       "    <tr>\n",
       "      <th id=\"T_91a31_level0_row1\" class=\"row_heading level0 row1\" >mean</th>\n",
       "      <td id=\"T_91a31_row1_col0\" class=\"data row1 col0\" >7.080795</td>\n",
       "      <td id=\"T_91a31_row1_col1\" class=\"data row1 col1\" >196.369496</td>\n",
       "      <td id=\"T_91a31_row1_col2\" class=\"data row1 col2\" >22014.092526</td>\n",
       "      <td id=\"T_91a31_row1_col3\" class=\"data row1 col3\" >7.122277</td>\n",
       "      <td id=\"T_91a31_row1_col4\" class=\"data row1 col4\" >333.775777</td>\n",
       "      <td id=\"T_91a31_row1_col5\" class=\"data row1 col5\" >426.205111</td>\n",
       "      <td id=\"T_91a31_row1_col6\" class=\"data row1 col6\" >14.284970</td>\n",
       "      <td id=\"T_91a31_row1_col7\" class=\"data row1 col7\" >66.396293</td>\n",
       "      <td id=\"T_91a31_row1_col8\" class=\"data row1 col8\" >3.966786</td>\n",
       "      <td id=\"T_91a31_row1_col9\" class=\"data row1 col9\" >0.390110</td>\n",
       "    </tr>\n",
       "    <tr>\n",
       "      <th id=\"T_91a31_level0_row2\" class=\"row_heading level0 row2\" >std</th>\n",
       "      <td id=\"T_91a31_row2_col0\" class=\"data row2 col0\" >1.594320</td>\n",
       "      <td id=\"T_91a31_row2_col1\" class=\"data row2 col1\" >32.879761</td>\n",
       "      <td id=\"T_91a31_row2_col2\" class=\"data row2 col2\" >8768.570828</td>\n",
       "      <td id=\"T_91a31_row2_col3\" class=\"data row2 col3\" >1.583085</td>\n",
       "      <td id=\"T_91a31_row2_col4\" class=\"data row2 col4\" >41.416840</td>\n",
       "      <td id=\"T_91a31_row2_col5\" class=\"data row2 col5\" >80.824064</td>\n",
       "      <td id=\"T_91a31_row2_col6\" class=\"data row2 col6\" >3.308162</td>\n",
       "      <td id=\"T_91a31_row2_col7\" class=\"data row2 col7\" >16.175008</td>\n",
       "      <td id=\"T_91a31_row2_col8\" class=\"data row2 col8\" >0.780382</td>\n",
       "      <td id=\"T_91a31_row2_col9\" class=\"data row2 col9\" >0.487849</td>\n",
       "    </tr>\n",
       "    <tr>\n",
       "      <th id=\"T_91a31_level0_row3\" class=\"row_heading level0 row3\" >min</th>\n",
       "      <td id=\"T_91a31_row3_col0\" class=\"data row3 col0\" >0.000000</td>\n",
       "      <td id=\"T_91a31_row3_col1\" class=\"data row3 col1\" >47.432000</td>\n",
       "      <td id=\"T_91a31_row3_col2\" class=\"data row3 col2\" >320.942611</td>\n",
       "      <td id=\"T_91a31_row3_col3\" class=\"data row3 col3\" >0.352000</td>\n",
       "      <td id=\"T_91a31_row3_col4\" class=\"data row3 col4\" >129.000000</td>\n",
       "      <td id=\"T_91a31_row3_col5\" class=\"data row3 col5\" >181.483754</td>\n",
       "      <td id=\"T_91a31_row3_col6\" class=\"data row3 col6\" >2.200000</td>\n",
       "      <td id=\"T_91a31_row3_col7\" class=\"data row3 col7\" >0.738000</td>\n",
       "      <td id=\"T_91a31_row3_col8\" class=\"data row3 col8\" >1.450000</td>\n",
       "      <td id=\"T_91a31_row3_col9\" class=\"data row3 col9\" >0.000000</td>\n",
       "    </tr>\n",
       "    <tr>\n",
       "      <th id=\"T_91a31_level0_row4\" class=\"row_heading level0 row4\" >25%</th>\n",
       "      <td id=\"T_91a31_row4_col0\" class=\"data row4 col0\" >6.093092</td>\n",
       "      <td id=\"T_91a31_row4_col1\" class=\"data row4 col1\" >176.850538</td>\n",
       "      <td id=\"T_91a31_row4_col2\" class=\"data row4 col2\" >15666.690297</td>\n",
       "      <td id=\"T_91a31_row4_col3\" class=\"data row4 col3\" >6.127421</td>\n",
       "      <td id=\"T_91a31_row4_col4\" class=\"data row4 col4\" >307.699498</td>\n",
       "      <td id=\"T_91a31_row4_col5\" class=\"data row4 col5\" >365.734414</td>\n",
       "      <td id=\"T_91a31_row4_col6\" class=\"data row4 col6\" >12.065801</td>\n",
       "      <td id=\"T_91a31_row4_col7\" class=\"data row4 col7\" >55.844536</td>\n",
       "      <td id=\"T_91a31_row4_col8\" class=\"data row4 col8\" >3.439711</td>\n",
       "      <td id=\"T_91a31_row4_col9\" class=\"data row4 col9\" >0.000000</td>\n",
       "    </tr>\n",
       "    <tr>\n",
       "      <th id=\"T_91a31_level0_row5\" class=\"row_heading level0 row5\" >50%</th>\n",
       "      <td id=\"T_91a31_row5_col0\" class=\"data row5 col0\" >7.036752</td>\n",
       "      <td id=\"T_91a31_row5_col1\" class=\"data row5 col1\" >196.967627</td>\n",
       "      <td id=\"T_91a31_row5_col2\" class=\"data row5 col2\" >20927.833607</td>\n",
       "      <td id=\"T_91a31_row5_col3\" class=\"data row5 col3\" >7.130299</td>\n",
       "      <td id=\"T_91a31_row5_col4\" class=\"data row5 col4\" >333.073546</td>\n",
       "      <td id=\"T_91a31_row5_col5\" class=\"data row5 col5\" >421.884968</td>\n",
       "      <td id=\"T_91a31_row5_col6\" class=\"data row5 col6\" >14.218338</td>\n",
       "      <td id=\"T_91a31_row5_col7\" class=\"data row5 col7\" >66.622485</td>\n",
       "      <td id=\"T_91a31_row5_col8\" class=\"data row5 col8\" >3.955028</td>\n",
       "      <td id=\"T_91a31_row5_col9\" class=\"data row5 col9\" >0.000000</td>\n",
       "    </tr>\n",
       "    <tr>\n",
       "      <th id=\"T_91a31_level0_row6\" class=\"row_heading level0 row6\" >75%</th>\n",
       "      <td id=\"T_91a31_row6_col0\" class=\"data row6 col0\" >8.062066</td>\n",
       "      <td id=\"T_91a31_row6_col1\" class=\"data row6 col1\" >216.667456</td>\n",
       "      <td id=\"T_91a31_row6_col2\" class=\"data row6 col2\" >27332.762127</td>\n",
       "      <td id=\"T_91a31_row6_col3\" class=\"data row6 col3\" >8.114887</td>\n",
       "      <td id=\"T_91a31_row6_col4\" class=\"data row6 col4\" >359.950170</td>\n",
       "      <td id=\"T_91a31_row6_col5\" class=\"data row6 col5\" >481.792304</td>\n",
       "      <td id=\"T_91a31_row6_col6\" class=\"data row6 col6\" >16.557652</td>\n",
       "      <td id=\"T_91a31_row6_col7\" class=\"data row6 col7\" >77.337473</td>\n",
       "      <td id=\"T_91a31_row6_col8\" class=\"data row6 col8\" >4.500320</td>\n",
       "      <td id=\"T_91a31_row6_col9\" class=\"data row6 col9\" >1.000000</td>\n",
       "    </tr>\n",
       "    <tr>\n",
       "      <th id=\"T_91a31_level0_row7\" class=\"row_heading level0 row7\" >max</th>\n",
       "      <td id=\"T_91a31_row7_col0\" class=\"data row7 col0\" >14.000000</td>\n",
       "      <td id=\"T_91a31_row7_col1\" class=\"data row7 col1\" >323.124000</td>\n",
       "      <td id=\"T_91a31_row7_col2\" class=\"data row7 col2\" >61227.196008</td>\n",
       "      <td id=\"T_91a31_row7_col3\" class=\"data row7 col3\" >13.127000</td>\n",
       "      <td id=\"T_91a31_row7_col4\" class=\"data row7 col4\" >481.030642</td>\n",
       "      <td id=\"T_91a31_row7_col5\" class=\"data row7 col5\" >753.342620</td>\n",
       "      <td id=\"T_91a31_row7_col6\" class=\"data row7 col6\" >28.300000</td>\n",
       "      <td id=\"T_91a31_row7_col7\" class=\"data row7 col7\" >124.000000</td>\n",
       "      <td id=\"T_91a31_row7_col8\" class=\"data row7 col8\" >6.739000</td>\n",
       "      <td id=\"T_91a31_row7_col9\" class=\"data row7 col9\" >1.000000</td>\n",
       "    </tr>\n",
       "  </tbody>\n",
       "</table>\n"
      ],
      "text/plain": [
       "<pandas.io.formats.style.Styler at 0x79dd7d2277c0>"
      ]
     },
     "execution_count": 6,
     "metadata": {},
     "output_type": "execute_result"
    }
   ],
   "source": [
    "data.describe().style.background_gradient(cmap='Greens')"
   ]
  },
  {
   "cell_type": "markdown",
   "metadata": {
    "id": "kvp5adtOOkY6"
   },
   "source": [
    "# **Data Validation**"
   ]
  },
  {
   "cell_type": "code",
   "execution_count": null,
   "metadata": {
    "colab": {
     "base_uri": "https://localhost:8080/"
    },
    "id": "meX8UlHhOd1q",
    "outputId": "96acf05a-7ba7-46bd-d2ab-68b4eb5b64a2"
   },
   "outputs": [
    {
     "data": {
      "text/plain": [
       "(3276, 10)"
      ]
     },
     "execution_count": 7,
     "metadata": {},
     "output_type": "execute_result"
    }
   ],
   "source": [
    "data.shape"
   ]
  },
  {
   "cell_type": "code",
   "execution_count": null,
   "metadata": {
    "colab": {
     "base_uri": "https://localhost:8080/"
    },
    "id": "XitNZOAjOwxY",
    "outputId": "d6ea9f8d-32a5-4269-d77c-f2daeab12e32"
   },
   "outputs": [
    {
     "data": {
      "text/plain": [
       "Index(['ph', 'Hardness', 'Solids', 'Chloramines', 'Sulfate', 'Conductivity',\n",
       "       'Organic_carbon', 'Trihalomethanes', 'Turbidity', 'Potability'],\n",
       "      dtype='object')"
      ]
     },
     "execution_count": 8,
     "metadata": {},
     "output_type": "execute_result"
    }
   ],
   "source": [
    "data.columns"
   ]
  },
  {
   "cell_type": "code",
   "execution_count": null,
   "metadata": {
    "colab": {
     "base_uri": "https://localhost:8080/"
    },
    "id": "L7uYApePO5zc",
    "outputId": "d3c33155-01cc-429e-d310-d9d628115079"
   },
   "outputs": [
    {
     "data": {
      "text/plain": [
       "ph                 491\n",
       "Hardness             0\n",
       "Solids               0\n",
       "Chloramines          0\n",
       "Sulfate            781\n",
       "Conductivity         0\n",
       "Organic_carbon       0\n",
       "Trihalomethanes    162\n",
       "Turbidity            0\n",
       "Potability           0\n",
       "dtype: int64"
      ]
     },
     "execution_count": 9,
     "metadata": {},
     "output_type": "execute_result"
    }
   ],
   "source": [
    "data.isnull().sum()"
   ]
  },
  {
   "cell_type": "markdown",
   "metadata": {
    "id": "PdoTX-BuQfKR"
   },
   "source": [
    "*It can be seen that the dataset contains some empty values which will need to be handled later.*"
   ]
  },
  {
   "cell_type": "code",
   "execution_count": null,
   "metadata": {
    "colab": {
     "base_uri": "https://localhost:8080/"
    },
    "id": "JE46S66BPCNu",
    "outputId": "24380475-0f3b-4346-df8e-b176364c94df"
   },
   "outputs": [
    {
     "name": "stdout",
     "output_type": "stream",
     "text": [
      "Kolom: ph\n",
      "  Lower Bound: 3.1396306008319446\n",
      "  Upper Bound: 11.015527436538386 \n",
      "\n",
      "Kolom: Hardness\n",
      "  Lower Bound: 117.12516037150485\n",
      "  Upper Bound: 276.3928337208903 \n",
      "\n",
      "Kolom: Solids\n",
      "  Lower Bound: -1832.4174487462951\n",
      "  Upper Bound: 44831.86987314956 \n",
      "\n",
      "Kolom: Chloramines\n",
      "  Lower Bound: 3.1462213405647073\n",
      "  Upper Bound: 11.09608644703562 \n",
      "\n",
      "Kolom: Sulfate\n",
      "  Lower Bound: 229.32348900968265\n",
      "  Upper Bound: 438.3261792097813 \n",
      "\n",
      "Kolom: Conductivity\n",
      "  Lower Bound: 191.64757856456453\n",
      "  Upper Bound: 655.8791400416264 \n",
      "\n",
      "Kolom: Organic_carbon\n",
      "  Lower Bound: 5.328026018267515\n",
      "  Upper Bound: 23.295426859188986 \n",
      "\n",
      "Kolom: Trihalomethanes\n",
      "  Lower Bound: 23.60512968935396\n",
      "  Upper Bound: 109.57687884035661 \n",
      "\n",
      "Kolom: Turbidity\n",
      "  Lower Bound: 1.8487974931046152\n",
      "  Upper Bound: 6.091233163793407 \n",
      "\n",
      "Jumlah Data Outliers adalah: {'ph': 46, 'Hardness': 83, 'Solids': 47, 'Chloramines': 61, 'Sulfate': 41, 'Conductivity': 11, 'Organic_carbon': 25, 'Trihalomethanes': 33, 'Turbidity': 19}\n"
     ]
    }
   ],
   "source": [
    "def count_outliers(data):\n",
    "    columns = ['ph','Hardness','Solids','Chloramines','Sulfate',\n",
    "               'Conductivity','Organic_carbon','Trihalomethanes','Turbidity']\n",
    "    outlier_counts = {}\n",
    "\n",
    "    for column in columns:\n",
    "        Q1 = data[column].quantile(0.25)\n",
    "        Q3 = data[column].quantile(0.75)\n",
    "        IQR = Q3 - Q1\n",
    "        lower_bound = Q1 - 1.5 * IQR\n",
    "        upper_bound = Q3 + 1.5 * IQR\n",
    "\n",
    "        outliers = data[(data[column] < lower_bound) | (data[column] > upper_bound)]\n",
    "        outlier_counts[column] = len(outliers)\n",
    "\n",
    "        print(f\"Kolom: {column}\")\n",
    "        print(f\"  Lower Bound: {lower_bound}\")\n",
    "        print(f\"  Upper Bound: {upper_bound}\", \"\\n\")\n",
    "\n",
    "    return outlier_counts\n",
    "\n",
    "outlier_counts = count_outliers(data)\n",
    "print(f'Jumlah Data Outliers adalah:', outlier_counts)"
   ]
  },
  {
   "cell_type": "markdown",
   "metadata": {
    "id": "pYnd70tEQuXa"
   },
   "source": [
    "*It can be seen that the data contains outliers.*"
   ]
  },
  {
   "cell_type": "markdown",
   "metadata": {
    "id": "yz_6nDsQPvk7"
   },
   "source": [
    "# **Cleaning Data**\n",
    "*Because water quality is sensitive data, neither empty data nor outliers data can be manipulated by entering mean, median, mode or others.*\n",
    "\n",
    "*Here will remove rows that contain empty data because the information is incomplete*"
   ]
  },
  {
   "cell_type": "code",
   "execution_count": null,
   "metadata": {
    "colab": {
     "base_uri": "https://localhost:8080/"
    },
    "id": "ELvAu6C7Pk79",
    "outputId": "83aec078-e3a0-42f1-f78b-f3dfc1e07210"
   },
   "outputs": [
    {
     "data": {
      "text/plain": [
       "(2011, 10)"
      ]
     },
     "execution_count": 11,
     "metadata": {},
     "output_type": "execute_result"
    }
   ],
   "source": [
    "data = data.dropna()\n",
    "\n",
    "data.shape"
   ]
  },
  {
   "cell_type": "markdown",
   "metadata": {
    "id": "4kFfj8CfRv5Z"
   },
   "source": [
    "# **Constructing Data**"
   ]
  },
  {
   "cell_type": "code",
   "execution_count": null,
   "metadata": {
    "colab": {
     "base_uri": "https://localhost:8080/"
    },
    "id": "g73jzzqGQFsJ",
    "outputId": "6bc0f181-4ec9-4e25-fd51-a2e77e770bc6"
   },
   "outputs": [
    {
     "data": {
      "text/plain": [
       "0    1200\n",
       "1     811\n",
       "Name: Potability, dtype: int64"
      ]
     },
     "execution_count": 12,
     "metadata": {},
     "output_type": "execute_result"
    }
   ],
   "source": [
    "data.Potability.value_counts()"
   ]
  },
  {
   "cell_type": "markdown",
   "metadata": {
    "id": "SK26E984R_Vm"
   },
   "source": [
    "*Shows whether the water is suitable for human consumption, where 1 means drinkable and 0 means undrinkable.*\n",
    "\n",
    "*This is an unbalanced dataset because 0 is more than 1. Here it is necessary to balance the data so that there is no bias.*"
   ]
  },
  {
   "cell_type": "code",
   "execution_count": null,
   "metadata": {
    "id": "MYCb0mMSR9Zv"
   },
   "outputs": [],
   "source": [
    "nol = data[data['Potability']==0]\n",
    "satu = data[data['Potability']==1]\n",
    "\n",
    "data_upsampled = resample(satu, replace=True, n_samples=1200)\n",
    "data = pd.concat([nol, data_upsampled])\n",
    "\n",
    "data = shuffle(data)"
   ]
  },
  {
   "cell_type": "code",
   "execution_count": null,
   "metadata": {
    "colab": {
     "base_uri": "https://localhost:8080/",
     "height": 424
    },
    "id": "o7AmzkNfT1uN",
    "outputId": "47ea4a78-0082-4d7f-e39e-60ddd2c02ab5"
   },
   "outputs": [
    {
     "data": {
      "text/html": [
       "\n",
       "  <div id=\"df-f4d3efeb-881d-459d-a383-8aae980ea1b6\" class=\"colab-df-container\">\n",
       "    <div>\n",
       "<style scoped>\n",
       "    .dataframe tbody tr th:only-of-type {\n",
       "        vertical-align: middle;\n",
       "    }\n",
       "\n",
       "    .dataframe tbody tr th {\n",
       "        vertical-align: top;\n",
       "    }\n",
       "\n",
       "    .dataframe thead th {\n",
       "        text-align: right;\n",
       "    }\n",
       "</style>\n",
       "<table border=\"1\" class=\"dataframe\">\n",
       "  <thead>\n",
       "    <tr style=\"text-align: right;\">\n",
       "      <th></th>\n",
       "      <th>ph</th>\n",
       "      <th>Hardness</th>\n",
       "      <th>Solids</th>\n",
       "      <th>Chloramines</th>\n",
       "      <th>Sulfate</th>\n",
       "      <th>Conductivity</th>\n",
       "      <th>Organic_carbon</th>\n",
       "      <th>Trihalomethanes</th>\n",
       "      <th>Turbidity</th>\n",
       "      <th>Potability</th>\n",
       "    </tr>\n",
       "  </thead>\n",
       "  <tbody>\n",
       "    <tr>\n",
       "      <th>408</th>\n",
       "      <td>6.443754</td>\n",
       "      <td>196.615992</td>\n",
       "      <td>25740.412591</td>\n",
       "      <td>2.484380</td>\n",
       "      <td>435.672765</td>\n",
       "      <td>352.353623</td>\n",
       "      <td>16.924419</td>\n",
       "      <td>33.051888</td>\n",
       "      <td>4.498685</td>\n",
       "      <td>1</td>\n",
       "    </tr>\n",
       "    <tr>\n",
       "      <th>1223</th>\n",
       "      <td>7.582942</td>\n",
       "      <td>185.045993</td>\n",
       "      <td>23072.780698</td>\n",
       "      <td>5.892273</td>\n",
       "      <td>297.505772</td>\n",
       "      <td>518.048524</td>\n",
       "      <td>12.038457</td>\n",
       "      <td>80.312558</td>\n",
       "      <td>4.164029</td>\n",
       "      <td>1</td>\n",
       "    </tr>\n",
       "    <tr>\n",
       "      <th>675</th>\n",
       "      <td>8.977822</td>\n",
       "      <td>198.996287</td>\n",
       "      <td>20225.642923</td>\n",
       "      <td>7.569518</td>\n",
       "      <td>352.685843</td>\n",
       "      <td>492.097825</td>\n",
       "      <td>19.621923</td>\n",
       "      <td>64.177232</td>\n",
       "      <td>3.200000</td>\n",
       "      <td>1</td>\n",
       "    </tr>\n",
       "    <tr>\n",
       "      <th>2022</th>\n",
       "      <td>6.433722</td>\n",
       "      <td>177.252511</td>\n",
       "      <td>20321.229404</td>\n",
       "      <td>6.378918</td>\n",
       "      <td>373.051772</td>\n",
       "      <td>375.028222</td>\n",
       "      <td>11.684648</td>\n",
       "      <td>61.629823</td>\n",
       "      <td>3.641490</td>\n",
       "      <td>1</td>\n",
       "    </tr>\n",
       "    <tr>\n",
       "      <th>795</th>\n",
       "      <td>10.268415</td>\n",
       "      <td>225.074218</td>\n",
       "      <td>14694.420625</td>\n",
       "      <td>6.722843</td>\n",
       "      <td>300.763772</td>\n",
       "      <td>353.630913</td>\n",
       "      <td>13.553796</td>\n",
       "      <td>64.012944</td>\n",
       "      <td>5.199865</td>\n",
       "      <td>1</td>\n",
       "    </tr>\n",
       "    <tr>\n",
       "      <th>...</th>\n",
       "      <td>...</td>\n",
       "      <td>...</td>\n",
       "      <td>...</td>\n",
       "      <td>...</td>\n",
       "      <td>...</td>\n",
       "      <td>...</td>\n",
       "      <td>...</td>\n",
       "      <td>...</td>\n",
       "      <td>...</td>\n",
       "      <td>...</td>\n",
       "    </tr>\n",
       "    <tr>\n",
       "      <th>2925</th>\n",
       "      <td>11.563169</td>\n",
       "      <td>174.942862</td>\n",
       "      <td>19359.428816</td>\n",
       "      <td>6.495619</td>\n",
       "      <td>332.446490</td>\n",
       "      <td>366.312672</td>\n",
       "      <td>17.529526</td>\n",
       "      <td>38.431200</td>\n",
       "      <td>5.107236</td>\n",
       "      <td>0</td>\n",
       "    </tr>\n",
       "    <tr>\n",
       "      <th>2513</th>\n",
       "      <td>9.831402</td>\n",
       "      <td>263.632722</td>\n",
       "      <td>13345.369098</td>\n",
       "      <td>6.566929</td>\n",
       "      <td>295.774218</td>\n",
       "      <td>462.439737</td>\n",
       "      <td>12.002323</td>\n",
       "      <td>76.021367</td>\n",
       "      <td>3.311808</td>\n",
       "      <td>0</td>\n",
       "    </tr>\n",
       "    <tr>\n",
       "      <th>2929</th>\n",
       "      <td>7.528980</td>\n",
       "      <td>225.340986</td>\n",
       "      <td>8129.734919</td>\n",
       "      <td>6.305472</td>\n",
       "      <td>309.231247</td>\n",
       "      <td>379.339293</td>\n",
       "      <td>16.961944</td>\n",
       "      <td>64.265787</td>\n",
       "      <td>3.644410</td>\n",
       "      <td>0</td>\n",
       "    </tr>\n",
       "    <tr>\n",
       "      <th>852</th>\n",
       "      <td>6.753128</td>\n",
       "      <td>191.982995</td>\n",
       "      <td>18222.931957</td>\n",
       "      <td>3.920974</td>\n",
       "      <td>296.196618</td>\n",
       "      <td>389.742462</td>\n",
       "      <td>9.689144</td>\n",
       "      <td>92.219615</td>\n",
       "      <td>5.102517</td>\n",
       "      <td>0</td>\n",
       "    </tr>\n",
       "    <tr>\n",
       "      <th>1906</th>\n",
       "      <td>6.622791</td>\n",
       "      <td>195.867117</td>\n",
       "      <td>13900.716523</td>\n",
       "      <td>6.363538</td>\n",
       "      <td>387.356938</td>\n",
       "      <td>310.851138</td>\n",
       "      <td>11.758374</td>\n",
       "      <td>52.406188</td>\n",
       "      <td>5.609291</td>\n",
       "      <td>1</td>\n",
       "    </tr>\n",
       "  </tbody>\n",
       "</table>\n",
       "<p>2400 rows × 10 columns</p>\n",
       "</div>\n",
       "    <div class=\"colab-df-buttons\">\n",
       "\n",
       "  <div class=\"colab-df-container\">\n",
       "    <button class=\"colab-df-convert\" onclick=\"convertToInteractive('df-f4d3efeb-881d-459d-a383-8aae980ea1b6')\"\n",
       "            title=\"Convert this dataframe to an interactive table.\"\n",
       "            style=\"display:none;\">\n",
       "\n",
       "  <svg xmlns=\"http://www.w3.org/2000/svg\" height=\"24px\" viewBox=\"0 -960 960 960\">\n",
       "    <path d=\"M120-120v-720h720v720H120Zm60-500h600v-160H180v160Zm220 220h160v-160H400v160Zm0 220h160v-160H400v160ZM180-400h160v-160H180v160Zm440 0h160v-160H620v160ZM180-180h160v-160H180v160Zm440 0h160v-160H620v160Z\"/>\n",
       "  </svg>\n",
       "    </button>\n",
       "\n",
       "  <style>\n",
       "    .colab-df-container {\n",
       "      display:flex;\n",
       "      gap: 12px;\n",
       "    }\n",
       "\n",
       "    .colab-df-convert {\n",
       "      background-color: #E8F0FE;\n",
       "      border: none;\n",
       "      border-radius: 50%;\n",
       "      cursor: pointer;\n",
       "      display: none;\n",
       "      fill: #1967D2;\n",
       "      height: 32px;\n",
       "      padding: 0 0 0 0;\n",
       "      width: 32px;\n",
       "    }\n",
       "\n",
       "    .colab-df-convert:hover {\n",
       "      background-color: #E2EBFA;\n",
       "      box-shadow: 0px 1px 2px rgba(60, 64, 67, 0.3), 0px 1px 3px 1px rgba(60, 64, 67, 0.15);\n",
       "      fill: #174EA6;\n",
       "    }\n",
       "\n",
       "    .colab-df-buttons div {\n",
       "      margin-bottom: 4px;\n",
       "    }\n",
       "\n",
       "    [theme=dark] .colab-df-convert {\n",
       "      background-color: #3B4455;\n",
       "      fill: #D2E3FC;\n",
       "    }\n",
       "\n",
       "    [theme=dark] .colab-df-convert:hover {\n",
       "      background-color: #434B5C;\n",
       "      box-shadow: 0px 1px 3px 1px rgba(0, 0, 0, 0.15);\n",
       "      filter: drop-shadow(0px 1px 2px rgba(0, 0, 0, 0.3));\n",
       "      fill: #FFFFFF;\n",
       "    }\n",
       "  </style>\n",
       "\n",
       "    <script>\n",
       "      const buttonEl =\n",
       "        document.querySelector('#df-f4d3efeb-881d-459d-a383-8aae980ea1b6 button.colab-df-convert');\n",
       "      buttonEl.style.display =\n",
       "        google.colab.kernel.accessAllowed ? 'block' : 'none';\n",
       "\n",
       "      async function convertToInteractive(key) {\n",
       "        const element = document.querySelector('#df-f4d3efeb-881d-459d-a383-8aae980ea1b6');\n",
       "        const dataTable =\n",
       "          await google.colab.kernel.invokeFunction('convertToInteractive',\n",
       "                                                    [key], {});\n",
       "        if (!dataTable) return;\n",
       "\n",
       "        const docLinkHtml = 'Like what you see? Visit the ' +\n",
       "          '<a target=\"_blank\" href=https://colab.research.google.com/notebooks/data_table.ipynb>data table notebook</a>'\n",
       "          + ' to learn more about interactive tables.';\n",
       "        element.innerHTML = '';\n",
       "        dataTable['output_type'] = 'display_data';\n",
       "        await google.colab.output.renderOutput(dataTable, element);\n",
       "        const docLink = document.createElement('div');\n",
       "        docLink.innerHTML = docLinkHtml;\n",
       "        element.appendChild(docLink);\n",
       "      }\n",
       "    </script>\n",
       "  </div>\n",
       "\n",
       "\n",
       "<div id=\"df-fd93652b-044e-408d-a6dd-bb2962b1beaf\">\n",
       "  <button class=\"colab-df-quickchart\" onclick=\"quickchart('df-fd93652b-044e-408d-a6dd-bb2962b1beaf')\"\n",
       "            title=\"Suggest charts\"\n",
       "            style=\"display:none;\">\n",
       "\n",
       "<svg xmlns=\"http://www.w3.org/2000/svg\" height=\"24px\"viewBox=\"0 0 24 24\"\n",
       "     width=\"24px\">\n",
       "    <g>\n",
       "        <path d=\"M19 3H5c-1.1 0-2 .9-2 2v14c0 1.1.9 2 2 2h14c1.1 0 2-.9 2-2V5c0-1.1-.9-2-2-2zM9 17H7v-7h2v7zm4 0h-2V7h2v10zm4 0h-2v-4h2v4z\"/>\n",
       "    </g>\n",
       "</svg>\n",
       "  </button>\n",
       "\n",
       "<style>\n",
       "  .colab-df-quickchart {\n",
       "      --bg-color: #E8F0FE;\n",
       "      --fill-color: #1967D2;\n",
       "      --hover-bg-color: #E2EBFA;\n",
       "      --hover-fill-color: #174EA6;\n",
       "      --disabled-fill-color: #AAA;\n",
       "      --disabled-bg-color: #DDD;\n",
       "  }\n",
       "\n",
       "  [theme=dark] .colab-df-quickchart {\n",
       "      --bg-color: #3B4455;\n",
       "      --fill-color: #D2E3FC;\n",
       "      --hover-bg-color: #434B5C;\n",
       "      --hover-fill-color: #FFFFFF;\n",
       "      --disabled-bg-color: #3B4455;\n",
       "      --disabled-fill-color: #666;\n",
       "  }\n",
       "\n",
       "  .colab-df-quickchart {\n",
       "    background-color: var(--bg-color);\n",
       "    border: none;\n",
       "    border-radius: 50%;\n",
       "    cursor: pointer;\n",
       "    display: none;\n",
       "    fill: var(--fill-color);\n",
       "    height: 32px;\n",
       "    padding: 0;\n",
       "    width: 32px;\n",
       "  }\n",
       "\n",
       "  .colab-df-quickchart:hover {\n",
       "    background-color: var(--hover-bg-color);\n",
       "    box-shadow: 0 1px 2px rgba(60, 64, 67, 0.3), 0 1px 3px 1px rgba(60, 64, 67, 0.15);\n",
       "    fill: var(--button-hover-fill-color);\n",
       "  }\n",
       "\n",
       "  .colab-df-quickchart-complete:disabled,\n",
       "  .colab-df-quickchart-complete:disabled:hover {\n",
       "    background-color: var(--disabled-bg-color);\n",
       "    fill: var(--disabled-fill-color);\n",
       "    box-shadow: none;\n",
       "  }\n",
       "\n",
       "  .colab-df-spinner {\n",
       "    border: 2px solid var(--fill-color);\n",
       "    border-color: transparent;\n",
       "    border-bottom-color: var(--fill-color);\n",
       "    animation:\n",
       "      spin 1s steps(1) infinite;\n",
       "  }\n",
       "\n",
       "  @keyframes spin {\n",
       "    0% {\n",
       "      border-color: transparent;\n",
       "      border-bottom-color: var(--fill-color);\n",
       "      border-left-color: var(--fill-color);\n",
       "    }\n",
       "    20% {\n",
       "      border-color: transparent;\n",
       "      border-left-color: var(--fill-color);\n",
       "      border-top-color: var(--fill-color);\n",
       "    }\n",
       "    30% {\n",
       "      border-color: transparent;\n",
       "      border-left-color: var(--fill-color);\n",
       "      border-top-color: var(--fill-color);\n",
       "      border-right-color: var(--fill-color);\n",
       "    }\n",
       "    40% {\n",
       "      border-color: transparent;\n",
       "      border-right-color: var(--fill-color);\n",
       "      border-top-color: var(--fill-color);\n",
       "    }\n",
       "    60% {\n",
       "      border-color: transparent;\n",
       "      border-right-color: var(--fill-color);\n",
       "    }\n",
       "    80% {\n",
       "      border-color: transparent;\n",
       "      border-right-color: var(--fill-color);\n",
       "      border-bottom-color: var(--fill-color);\n",
       "    }\n",
       "    90% {\n",
       "      border-color: transparent;\n",
       "      border-bottom-color: var(--fill-color);\n",
       "    }\n",
       "  }\n",
       "</style>\n",
       "\n",
       "  <script>\n",
       "    async function quickchart(key) {\n",
       "      const quickchartButtonEl =\n",
       "        document.querySelector('#' + key + ' button');\n",
       "      quickchartButtonEl.disabled = true;  // To prevent multiple clicks.\n",
       "      quickchartButtonEl.classList.add('colab-df-spinner');\n",
       "      try {\n",
       "        const charts = await google.colab.kernel.invokeFunction(\n",
       "            'suggestCharts', [key], {});\n",
       "      } catch (error) {\n",
       "        console.error('Error during call to suggestCharts:', error);\n",
       "      }\n",
       "      quickchartButtonEl.classList.remove('colab-df-spinner');\n",
       "      quickchartButtonEl.classList.add('colab-df-quickchart-complete');\n",
       "    }\n",
       "    (() => {\n",
       "      let quickchartButtonEl =\n",
       "        document.querySelector('#df-fd93652b-044e-408d-a6dd-bb2962b1beaf button');\n",
       "      quickchartButtonEl.style.display =\n",
       "        google.colab.kernel.accessAllowed ? 'block' : 'none';\n",
       "    })();\n",
       "  </script>\n",
       "</div>\n",
       "    </div>\n",
       "  </div>\n"
      ],
      "text/plain": [
       "             ph    Hardness        Solids  Chloramines     Sulfate  \\\n",
       "408    6.443754  196.615992  25740.412591     2.484380  435.672765   \n",
       "1223   7.582942  185.045993  23072.780698     5.892273  297.505772   \n",
       "675    8.977822  198.996287  20225.642923     7.569518  352.685843   \n",
       "2022   6.433722  177.252511  20321.229404     6.378918  373.051772   \n",
       "795   10.268415  225.074218  14694.420625     6.722843  300.763772   \n",
       "...         ...         ...           ...          ...         ...   \n",
       "2925  11.563169  174.942862  19359.428816     6.495619  332.446490   \n",
       "2513   9.831402  263.632722  13345.369098     6.566929  295.774218   \n",
       "2929   7.528980  225.340986   8129.734919     6.305472  309.231247   \n",
       "852    6.753128  191.982995  18222.931957     3.920974  296.196618   \n",
       "1906   6.622791  195.867117  13900.716523     6.363538  387.356938   \n",
       "\n",
       "      Conductivity  Organic_carbon  Trihalomethanes  Turbidity  Potability  \n",
       "408     352.353623       16.924419        33.051888   4.498685           1  \n",
       "1223    518.048524       12.038457        80.312558   4.164029           1  \n",
       "675     492.097825       19.621923        64.177232   3.200000           1  \n",
       "2022    375.028222       11.684648        61.629823   3.641490           1  \n",
       "795     353.630913       13.553796        64.012944   5.199865           1  \n",
       "...            ...             ...              ...        ...         ...  \n",
       "2925    366.312672       17.529526        38.431200   5.107236           0  \n",
       "2513    462.439737       12.002323        76.021367   3.311808           0  \n",
       "2929    379.339293       16.961944        64.265787   3.644410           0  \n",
       "852     389.742462        9.689144        92.219615   5.102517           0  \n",
       "1906    310.851138       11.758374        52.406188   5.609291           1  \n",
       "\n",
       "[2400 rows x 10 columns]"
      ]
     },
     "execution_count": 14,
     "metadata": {},
     "output_type": "execute_result"
    }
   ],
   "source": [
    "data"
   ]
  },
  {
   "cell_type": "code",
   "execution_count": null,
   "metadata": {
    "colab": {
     "base_uri": "https://localhost:8080/"
    },
    "id": "AdLBe0zXTlIG",
    "outputId": "45ec9871-4858-465a-adfb-313439886a7f"
   },
   "outputs": [
    {
     "data": {
      "text/plain": [
       "1    1200\n",
       "0    1200\n",
       "Name: Potability, dtype: int64"
      ]
     },
     "execution_count": 15,
     "metadata": {},
     "output_type": "execute_result"
    }
   ],
   "source": [
    "data.Potability.value_counts()"
   ]
  },
  {
   "cell_type": "markdown",
   "metadata": {
    "id": "8XMk8Ae6VZ-m"
   },
   "source": [
    "# **Spliting Data**"
   ]
  },
  {
   "cell_type": "code",
   "execution_count": null,
   "metadata": {
    "colab": {
     "base_uri": "https://localhost:8080/"
    },
    "id": "7fR-tXDqUB4_",
    "outputId": "3a4e1639-b521-40f8-a17f-c2107513358d"
   },
   "outputs": [
    {
     "data": {
      "text/plain": [
       "((2400, 9), (2400,))"
      ]
     },
     "execution_count": 16,
     "metadata": {},
     "output_type": "execute_result"
    }
   ],
   "source": [
    "X = data.drop('Potability', axis=1)\n",
    "y = data['Potability']\n",
    "\n",
    "X.shape, y.shape"
   ]
  },
  {
   "cell_type": "code",
   "execution_count": null,
   "metadata": {
    "id": "RTjn_ZDhw3Zu"
   },
   "outputs": [],
   "source": [
    "sc = StandardScaler()\n",
    "\n",
    "features = X.columns\n",
    "\n",
    "X[features] = sc.fit_transform(X[features])"
   ]
  },
  {
   "cell_type": "code",
   "execution_count": null,
   "metadata": {
    "colab": {
     "base_uri": "https://localhost:8080/"
    },
    "id": "foYbpc6JVocL",
    "outputId": "bc61eaba-6adb-4543-dcfc-5b540b93431c"
   },
   "outputs": [
    {
     "name": "stdout",
     "output_type": "stream",
     "text": [
      "X train  : (1920, 9)\n",
      "X test   : (480, 9)\n",
      "y train  : (1920,)\n",
      "y test   : (480,)\n"
     ]
    }
   ],
   "source": [
    "X_train, X_test, y_train, y_test = train_test_split(X, y, test_size=0.2)\n",
    "\n",
    "print(\"X train  :\",X_train.shape)\n",
    "print(\"X test   :\",X_test.shape)\n",
    "print(\"y train  :\",y_train.shape)\n",
    "print(\"y test   :\",y_test.shape)"
   ]
  },
  {
   "cell_type": "markdown",
   "metadata": {
    "id": "xWYhQu0KWGyw"
   },
   "source": [
    "# **Random Forest**"
   ]
  },
  {
   "cell_type": "markdown",
   "metadata": {
    "id": "EOxTOqyPYVG6"
   },
   "source": [
    "### **Finding the Best Hyperparameters for a Model**"
   ]
  },
  {
   "cell_type": "code",
   "execution_count": null,
   "metadata": {
    "colab": {
     "base_uri": "https://localhost:8080/"
    },
    "id": "6S6yAGxJV9lE",
    "outputId": "809ef6eb-4cfb-4de4-c4ba-c97557fb9dcf"
   },
   "outputs": [
    {
     "name": "stdout",
     "output_type": "stream",
     "text": [
      "Parameter terbaik untuk Random Forest : {'min_samples_leaf': 2, 'n_estimators': 500}\n"
     ]
    }
   ],
   "source": [
    "model_rf = RandomForestClassifier()\n",
    "\n",
    "params_rf = {\n",
    "    'n_estimators':[100, 200, 350, 500], # number of trees in Random Forest\n",
    "    'min_samples_leaf':[2, 10, 30] # minimum number of samples required at leaf nodes\n",
    "    }\n",
    "\n",
    "grid_rf = GridSearchCV(model_rf, param_grid=params_rf, cv=5)\n",
    "\n",
    "grid_rf.fit(X_train, y_train)\n",
    "\n",
    "print(\"Parameter terbaik untuk Random Forest :\", grid_rf.best_params_)"
   ]
  },
  {
   "cell_type": "code",
   "execution_count": null,
   "metadata": {
    "colab": {
     "base_uri": "https://localhost:8080/",
     "height": 75
    },
    "id": "sC_nCo99aV_V",
    "outputId": "5c66b550-518b-4ea9-845a-e163426a7b8e"
   },
   "outputs": [
    {
     "data": {
      "text/html": [
       "<style>#sk-container-id-1 {color: black;background-color: white;}#sk-container-id-1 pre{padding: 0;}#sk-container-id-1 div.sk-toggleable {background-color: white;}#sk-container-id-1 label.sk-toggleable__label {cursor: pointer;display: block;width: 100%;margin-bottom: 0;padding: 0.3em;box-sizing: border-box;text-align: center;}#sk-container-id-1 label.sk-toggleable__label-arrow:before {content: \"▸\";float: left;margin-right: 0.25em;color: #696969;}#sk-container-id-1 label.sk-toggleable__label-arrow:hover:before {color: black;}#sk-container-id-1 div.sk-estimator:hover label.sk-toggleable__label-arrow:before {color: black;}#sk-container-id-1 div.sk-toggleable__content {max-height: 0;max-width: 0;overflow: hidden;text-align: left;background-color: #f0f8ff;}#sk-container-id-1 div.sk-toggleable__content pre {margin: 0.2em;color: black;border-radius: 0.25em;background-color: #f0f8ff;}#sk-container-id-1 input.sk-toggleable__control:checked~div.sk-toggleable__content {max-height: 200px;max-width: 100%;overflow: auto;}#sk-container-id-1 input.sk-toggleable__control:checked~label.sk-toggleable__label-arrow:before {content: \"▾\";}#sk-container-id-1 div.sk-estimator input.sk-toggleable__control:checked~label.sk-toggleable__label {background-color: #d4ebff;}#sk-container-id-1 div.sk-label input.sk-toggleable__control:checked~label.sk-toggleable__label {background-color: #d4ebff;}#sk-container-id-1 input.sk-hidden--visually {border: 0;clip: rect(1px 1px 1px 1px);clip: rect(1px, 1px, 1px, 1px);height: 1px;margin: -1px;overflow: hidden;padding: 0;position: absolute;width: 1px;}#sk-container-id-1 div.sk-estimator {font-family: monospace;background-color: #f0f8ff;border: 1px dotted black;border-radius: 0.25em;box-sizing: border-box;margin-bottom: 0.5em;}#sk-container-id-1 div.sk-estimator:hover {background-color: #d4ebff;}#sk-container-id-1 div.sk-parallel-item::after {content: \"\";width: 100%;border-bottom: 1px solid gray;flex-grow: 1;}#sk-container-id-1 div.sk-label:hover label.sk-toggleable__label {background-color: #d4ebff;}#sk-container-id-1 div.sk-serial::before {content: \"\";position: absolute;border-left: 1px solid gray;box-sizing: border-box;top: 0;bottom: 0;left: 50%;z-index: 0;}#sk-container-id-1 div.sk-serial {display: flex;flex-direction: column;align-items: center;background-color: white;padding-right: 0.2em;padding-left: 0.2em;position: relative;}#sk-container-id-1 div.sk-item {position: relative;z-index: 1;}#sk-container-id-1 div.sk-parallel {display: flex;align-items: stretch;justify-content: center;background-color: white;position: relative;}#sk-container-id-1 div.sk-item::before, #sk-container-id-1 div.sk-parallel-item::before {content: \"\";position: absolute;border-left: 1px solid gray;box-sizing: border-box;top: 0;bottom: 0;left: 50%;z-index: -1;}#sk-container-id-1 div.sk-parallel-item {display: flex;flex-direction: column;z-index: 1;position: relative;background-color: white;}#sk-container-id-1 div.sk-parallel-item:first-child::after {align-self: flex-end;width: 50%;}#sk-container-id-1 div.sk-parallel-item:last-child::after {align-self: flex-start;width: 50%;}#sk-container-id-1 div.sk-parallel-item:only-child::after {width: 0;}#sk-container-id-1 div.sk-dashed-wrapped {border: 1px dashed gray;margin: 0 0.4em 0.5em 0.4em;box-sizing: border-box;padding-bottom: 0.4em;background-color: white;}#sk-container-id-1 div.sk-label label {font-family: monospace;font-weight: bold;display: inline-block;line-height: 1.2em;}#sk-container-id-1 div.sk-label-container {text-align: center;}#sk-container-id-1 div.sk-container {/* jupyter's `normalize.less` sets `[hidden] { display: none; }` but bootstrap.min.css set `[hidden] { display: none !important; }` so we also need the `!important` here to be able to override the default hidden behavior on the sphinx rendered scikit-learn.org. See: https://github.com/scikit-learn/scikit-learn/issues/21755 */display: inline-block !important;position: relative;}#sk-container-id-1 div.sk-text-repr-fallback {display: none;}</style><div id=\"sk-container-id-1\" class=\"sk-top-container\"><div class=\"sk-text-repr-fallback\"><pre>RandomForestClassifier(min_samples_leaf=2, n_estimators=500)</pre><b>In a Jupyter environment, please rerun this cell to show the HTML representation or trust the notebook. <br />On GitHub, the HTML representation is unable to render, please try loading this page with nbviewer.org.</b></div><div class=\"sk-container\" hidden><div class=\"sk-item\"><div class=\"sk-estimator sk-toggleable\"><input class=\"sk-toggleable__control sk-hidden--visually\" id=\"sk-estimator-id-1\" type=\"checkbox\" checked><label for=\"sk-estimator-id-1\" class=\"sk-toggleable__label sk-toggleable__label-arrow\">RandomForestClassifier</label><div class=\"sk-toggleable__content\"><pre>RandomForestClassifier(min_samples_leaf=2, n_estimators=500)</pre></div></div></div></div></div>"
      ],
      "text/plain": [
       "RandomForestClassifier(min_samples_leaf=2, n_estimators=500)"
      ]
     },
     "execution_count": 20,
     "metadata": {},
     "output_type": "execute_result"
    }
   ],
   "source": [
    "model_rf = RandomForestClassifier(min_samples_leaf=2, n_estimators=500)\n",
    "\n",
    "model_rf.fit(X_train, y_train)"
   ]
  },
  {
   "cell_type": "code",
   "execution_count": null,
   "metadata": {
    "id": "8sVu-PAJapef"
   },
   "outputs": [],
   "source": [
    "y_pred = model_rf.predict(X_test)"
   ]
  },
  {
   "cell_type": "code",
   "execution_count": null,
   "metadata": {},
   "outputs": [],
   "source": [
    "joblib.dump(model_rf, 'model.pkl')"
   ]
  },
  {
   "cell_type": "markdown",
   "metadata": {
    "id": "qKeBgb6qaKEp"
   },
   "source": [
    "# **Evaluation**"
   ]
  },
  {
   "cell_type": "markdown",
   "metadata": {
    "id": "b36pRCuFa9U0"
   },
   "source": [
    "### **Feature Importance**\n",
    "*Measure of the relative significance of each feature to the predicted outcome.*"
   ]
  },
  {
   "cell_type": "code",
   "execution_count": null,
   "metadata": {
    "colab": {
     "base_uri": "https://localhost:8080/"
    },
    "id": "9OGzYH70Zoag",
    "outputId": "daf32792-f1eb-48e2-d0b3-c40864955588"
   },
   "outputs": [
    {
     "name": "stdout",
     "output_type": "stream",
     "text": [
      "Fitur ph: 0.15068290755965044\n",
      "Fitur Sulfate: 0.1438153090942961\n",
      "Fitur Chloramines: 0.11920158562016096\n",
      "Fitur Solids: 0.11252601412378171\n",
      "Fitur Hardness: 0.10900198046200013\n",
      "Fitur Conductivity: 0.0940217970442038\n",
      "Fitur Organic_carbon: 0.09311595776857183\n",
      "Fitur Trihalomethanes: 0.09171872864728624\n",
      "Fitur Turbidity: 0.0859157196800488\n"
     ]
    }
   ],
   "source": [
    "feature_importance = model_rf.feature_importances_\n",
    "\n",
    "feature_names = X_train.columns\n",
    "\n",
    "sorted_indices = np.argsort(feature_importance)[::-1]\n",
    "sorted_feature_importance = feature_importance[sorted_indices]\n",
    "sorted_feature_names = feature_names[sorted_indices]\n",
    "\n",
    "for feature_name, importance in zip(sorted_feature_names, sorted_feature_importance):\n",
    "    print(f\"Fitur {feature_name}: {importance}\")"
   ]
  },
  {
   "cell_type": "code",
   "execution_count": null,
   "metadata": {
    "colab": {
     "base_uri": "https://localhost:8080/",
     "height": 489
    },
    "id": "5yfqRsbDbhxv",
    "outputId": "910b7c4a-2ebd-42c4-d906-a3296fe6f1b1"
   },
   "outputs": [
    {
     "data": {
      "text/plain": [
       "Text(0.5, 1.0, 'Feature Importance Score')"
      ]
     },
     "execution_count": 23,
     "metadata": {},
     "output_type": "execute_result"
    },
    {
     "data": {
      "image/png": "[encoded data removed]",
      "text/plain": [
       "<Figure size 640x480 with 1 Axes>"
      ]
     },
     "metadata": {},
     "output_type": "display_data"
    }
   ],
   "source": [
    "feat_imp = pd.Series(feature_importance, index=feature_names).sort_values()\n",
    "\n",
    "feat_imp.plot(color=sns.color_palette('Greens', len(feat_imp)), kind='barh')\n",
    "\n",
    "plt.xlabel(\"Importance Score\")\n",
    "plt.ylabel(\"Feature\")\n",
    "plt.title(\"Feature Importance Score\")"
   ]
  },
  {
   "cell_type": "markdown",
   "metadata": {
    "id": "fjWxL5XQe4IH"
   },
   "source": [
    "### **Receiver Operating Characteristic (ROC)**"
   ]
  },
  {
   "cell_type": "code",
   "execution_count": null,
   "metadata": {
    "id": "z58JwH4qbXRk"
   },
   "outputs": [],
   "source": [
    "fpr, tpr, thresholds = roc_curve(y_test, y_pred)\n",
    "\n",
    "roc_auc = auc(fpr, tpr)"
   ]
  },
  {
   "cell_type": "code",
   "execution_count": null,
   "metadata": {
    "colab": {
     "base_uri": "https://localhost:8080/",
     "height": 718
    },
    "id": "3dUqMjpNfMHZ",
    "outputId": "6b6b569b-d0f6-4c8c-bde1-f68c341fcaa5"
   },
   "outputs": [
    {
     "data": {
      "image/png": "[encoded data removed]",
      "text/plain": [
       "<Figure size 800x800 with 1 Axes>"
      ]
     },
     "metadata": {},
     "output_type": "display_data"
    }
   ],
   "source": [
    "plt.figure(figsize=(8, 8))\n",
    "\n",
    "plt.plot(fpr, tpr, color='green', lw=2, label='ROC curve (AUC = {:.2f})'.format(roc_auc))\n",
    "plt.plot([0, 1], [0, 1], color='black', lw=2, linestyle='--')\n",
    "\n",
    "plt.xlim([0.0, 1.0])\n",
    "plt.ylim([0.0, 1.05])\n",
    "\n",
    "plt.xlabel('False Positive Rate')\n",
    "plt.ylabel('True Positive Rate')\n",
    "\n",
    "plt.title('Receiver Operating Characteristic (ROC) Curve')\n",
    "plt.legend(loc='lower right')\n",
    "\n",
    "plt.show()"
   ]
  },
  {
   "cell_type": "markdown",
   "metadata": {},
   "source": [
    "*The curve that is closer to the upper left corner means the classification model is getting better. This model uses the Random Forest method and has an accuracy of 84%, which shows the suitability of the prediction with the test data. With this evaluation, it can be seen in more detail how the model distinguishes good and bad water quality based on the existing features.*"
   ]
  },
  {
   "cell_type": "markdown",
   "metadata": {
    "id": "wUxnt2GSgDuw"
   },
   "source": [
    "### **Confussion Matrix**"
   ]
  },
  {
   "cell_type": "code",
   "execution_count": null,
   "metadata": {
    "colab": {
     "base_uri": "https://localhost:8080/",
     "height": 410
    },
    "id": "0BiNFYC_fZ6j",
    "outputId": "eeb613f1-e144-46a3-ddf2-fc55d62181ee"
   },
   "outputs": [
    {
     "data": {
      "image/png": "[encoded data removed]",
      "text/plain": [
       "<Figure size 600x400 with 2 Axes>"
      ]
     },
     "metadata": {},
     "output_type": "display_data"
    }
   ],
   "source": [
    "cmd = confusion_matrix(y_test, y_pred)\n",
    "\n",
    "plt.figure(figsize=(6, 4))\n",
    "\n",
    "sns.heatmap(cmd, annot=True, fmt ='d', cmap='Greens')\n",
    "plt.title('RFC Model Confusion Matrix')\n",
    "\n",
    "plt.xlabel('Predicted')\n",
    "plt.ylabel('Actual')\n",
    "\n",
    "plt.show()"
   ]
  },
  {
   "cell_type": "markdown",
   "metadata": {},
   "source": [
    "*The main diagonal shows the number of predicted data that matches reality for the “Potable” and “Not Potable” categories, namely 207 and 198. However, there are data that are predicted incorrectly for the “Potable” and “Not Potable” categories, namely 42 and 33.*"
   ]
  },
  {
   "cell_type": "code",
   "execution_count": null,
   "metadata": {
    "colab": {
     "base_uri": "https://localhost:8080/"
    },
    "id": "5OQYVQZ3giE0",
    "outputId": "06b3aa8a-9eef-4909-aaab-af3b89c9327c"
   },
   "outputs": [
    {
     "name": "stdout",
     "output_type": "stream",
     "text": [
      "              precision    recall  f1-score   support\n",
      "\n",
      "           0       0.86      0.82      0.84       240\n",
      "           1       0.83      0.86      0.85       240\n",
      "\n",
      "    accuracy                           0.84       480\n",
      "   macro avg       0.84      0.84      0.84       480\n",
      "weighted avg       0.84      0.84      0.84       480\n",
      "\n"
     ]
    }
   ],
   "source": [
    "print(classification_report(y_test, y_pred))"
   ]
  },
  {
   "cell_type": "markdown",
   "metadata": {},
   "source": [
    "*For the “Potable” class, this model has a precision of 83% and a recall of 86%, which means that this model is quite accurate and sensitive in recognizing drinkable water. For the “Not Potable” class, this model has a precision of 86% and a recall of 82%, which means that this model is quite accurate and specific in recognizing drinkable water. The F1 Score value, which is the harmonic mean of precision and recall, shows an overall value of 0.85 for the “Potable” class and 0.84 for the “Not Potable” class.*"
   ]
  }
 ],
 "metadata": {
  "colab": {
   "provenance": []
  },
  "kernelspec": {
   "display_name": "Python [conda env:base] *",
   "language": "python",
   "name": "conda-base-py"
  },
  "language_info": {
   "codemirror_mode": {
    "name": "ipython",
    "version": 3
   },
   "file_extension": ".py",
   "mimetype": "text/x-python",
   "name": "python",
   "nbconvert_exporter": "python",
   "pygments_lexer": "ipython3",
   "version": "3.12.7"
  }
 },
 "nbformat": 4,
 "nbformat_minor": 4
}
